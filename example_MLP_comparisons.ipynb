{
 "cells": [
  {
   "cell_type": "code",
   "execution_count": null,
   "metadata": {
    "deletable": false,
    "editable": false
   },
   "outputs": [],
   "source": [
    "from api import Api\n",
    "mlApi = Api()"
   ]
  },
  {
   "cell_type": "code",
   "execution_count": null,
   "metadata": {},
   "outputs": [],
   "source": [
    "# define dataset specifics\n",
    "filename = \"../HX-condition-monitoring/datasets/D/data.csv\"\n",
    "\n",
    "columns = [\n",
    "    ['20TT001', 'Gas side inlet temperature', 'degrees'],\n",
    "    ['20PT001', 'Gas side inlet pressure', 'barG'],\n",
    "    ['20FT001', 'Gas side flow', 'M^3/s'],\n",
    "    ['20TT002', 'Gas side outlet temperature', 'degrees'],\n",
    "    ['20PDT001', 'Gas side pressure difference', 'bar'],\n",
    "    ['50TT001', 'Cooling side inlet temperature', 'degrees'],\n",
    "    ['50PT001', 'Cooling side inlet pressure', 'barG'],\n",
    "    ['50FT001', 'Cooling side flow', 'M^3/s'],\n",
    "    ['50TT002', 'Cooling side outlet temperature', 'degrees'],\n",
    "    ['50PDT001', 'Cooling side pressure differential', 'bar'],\n",
    "    ['50TV001', 'Cooling side valve opening', '%'],\n",
    "]\n",
    "\n",
    "irrelevantColumns = [\n",
    "    '50FT001',\n",
    "    '50PDT001',\n",
    "    '20PDT001',\n",
    "    '50TV001',\n",
    "]\n",
    "\n",
    "targetColumns = [\n",
    "    '50TT002',\n",
    "]"
   ]
  },
  {
   "cell_type": "code",
   "execution_count": null,
   "metadata": {},
   "outputs": [],
   "source": [
    "traintime = [\n",
    "        [\"2020-01-01 00:00:00\", \"2020-02-01 00:00:00\"],\n",
    "    ]\n",
    "\n",
    "testtime = [\n",
    "    \"2020-01-01 00:00:00\",\n",
    "    \"2020-07-01 00:00:00\"\n",
    "]"
   ]
  },
  {
   "cell_type": "code",
   "execution_count": null,
   "metadata": {
    "deletable": false,
    "editable": false
   },
   "outputs": [],
   "source": [
    "df = mlApi.initDataframe(filename, columns, irrelevantColumns)\n",
    "df_train, df_test = mlApi.getTestTrainSplit(traintime, testtime)\n",
    "X_train, y_train, X_test, y_test = mlApi.getFeatureTargetSplit(targetColumns)"
   ]
  },
  {
   "cell_type": "code",
   "execution_count": null,
   "metadata": {},
   "outputs": [],
   "source": [
    "mlp_10 = mlApi.MLP('MLP 10', layers=[10])\n",
    "mlp_20 = mlApi.MLP('MLP 20', layers=[20])\n",
    "mlp_128 = mlApi.MLP('MLP 128', layers=[128])\n",
    "mlp_10_reg = mlApi.MLP_Regularized('MLPr 10', layers=[10])\n",
    "mlp_20_reg = mlApi.MLP_Regularized('MLPr 20', layers=[20])\n",
    "mlp_128_reg = mlApi.MLP_Regularized('MLPr 128', layers=[128])\n",
    "mlp_128_dropout = mlApi.MLP_Dropout('MLPd 128', layers=[128], dropoutRate=0.2)\n",
    "lstm_128 = mlApi.LSTM('LSTM 128', enrolWindow=1)\n",
    "linear = mlApi.Linear('Linear')\n",
    "linear_reg = mlApi.Linear_Regularized('Linear r')\n",
    "ensemble = mlApi.Ensemble('Ensemble', [mlp_128_reg, linear_reg])\n",
    "\n",
    "modelList = [\n",
    "    mlp_128_reg,\n",
    "    mlp_128_dropout,\n",
    "    lstm_128,\n",
    "    linear_reg,\n",
    "    ensemble\n",
    "]\n",
    "\n",
    "retrain=True"
   ]
  },
  {
   "cell_type": "code",
   "execution_count": null,
   "metadata": {
    "deletable": false,
    "editable": false,
    "scrolled": true
   },
   "outputs": [],
   "source": [
    "mlApi.initModels(modelList)\n",
    "mlApi.trainModels(retrain)\n",
    "modelNames, metrics_train, metrics_test = mlApi.predictWithModels(plot=True)"
   ]
  },
  {
   "cell_type": "code",
   "execution_count": null,
   "metadata": {},
   "outputs": [],
   "source": []
  }
 ],
 "metadata": {
  "celltoolbar": "Edit Metadata",
  "kernelspec": {
   "display_name": "Python 3",
   "language": "python",
   "name": "python3"
  },
  "language_info": {
   "codemirror_mode": {
    "name": "ipython",
    "version": 3
   },
   "file_extension": ".py",
   "mimetype": "text/x-python",
   "name": "python",
   "nbconvert_exporter": "python",
   "pygments_lexer": "ipython3",
   "version": "3.6.8"
  }
 },
 "nbformat": 4,
 "nbformat_minor": 4
}
