{
 "cells": [
  {
   "cell_type": "code",
   "execution_count": null,
   "metadata": {
    "scrolled": true
   },
   "outputs": [],
   "source": [
    "# Uncertainty of Recurrent Neural Network models with dropout at time of prediction\n",
    "\n",
    "# %load 4_pred_uncertainty.py\n",
    "import src.core as mlApi\n",
    "import src.core_configs as configs\n",
    "\n",
    "import numpy as np\n",
    "import pandas as pd\n",
    "import matplotlib.pyplot as plt"
   ]
  },
  {
   "cell_type": "code",
   "execution_count": null,
   "metadata": {
    "scrolled": true
   },
   "outputs": [],
   "source": [
    "def plotDropoutPrediction(modelList, predictions, means, stds, targetColumns, df_test, y_test, traintime=None):\n",
    "    if traintime is not None:\n",
    "        trainEndStr = [item for sublist in traintime for item in sublist]\n",
    "    else:\n",
    "        trainEndStr = None\n",
    "\n",
    "    for i in range(len(modelList)):\n",
    "        output_mean = means[i]\n",
    "        output_std = stds[i]\n",
    "\n",
    "        for j in range(output_mean.shape[-1]):\n",
    "            mean = output_mean[:, j]\n",
    "            std = output_std[:, j]\n",
    "\n",
    "            upper = np.add(mean, std)\n",
    "            lower = np.subtract(mean, std)\n",
    "\n",
    "            fig, ax = plt.subplots(1, 1, figsize=(10,3), dpi=100)\n",
    "            ax.set_xlabel('Date')\n",
    "            ax.set_ylabel(mlApi._columnUnits[targetColumns[j]])\n",
    "            ax.set_title(modelList[i].name + \"\\nPredictions and targets, \" + mlApi._columnDescriptions[targetColumns[j]])\n",
    "            ax.plot(df_test.iloc[mlApi._maxEnrolWindow:].index, y_test[mlApi._maxEnrolWindow:, j], color=\"red\", alpha=0.5, label=\"targets\")\n",
    "            ax.plot(df_test.iloc[mlApi._maxEnrolWindow:].index, upper, color=\"grey\", alpha=0.7, label=\"+/- 1 std bounds\")\n",
    "            ax.plot(df_test.iloc[mlApi._maxEnrolWindow:].index, lower, color=\"grey\", alpha=0.7)\n",
    "            ax.plot(df_test.iloc[mlApi._maxEnrolWindow:].index, mean, color=\"blue\", alpha=1.0, label=\"prediction\")\n",
    "            ax.grid(1, axis='y')\n",
    "            ax.legend(bbox_to_anchor=(1.05, 1), loc='upper left', borderaxespad=0., prop={'size': 10})\n",
    "            \n",
    "            if trainEndStr:\n",
    "                for i, trainEndString in enumerate(trainEndStr):\n",
    "                    ax.axvline(x=pd.to_datetime(trainEndString, dayfirst=True), color='black' if i % 2 == 0 else 'blue', label='start training' if i % 2 == 0 else 'end training')\n",
    "\n",
    "            plt.show()"
   ]
  },
  {
   "cell_type": "code",
   "execution_count": null,
   "metadata": {
    "scrolled": true
   },
   "outputs": [],
   "source": [
    "def performDropoutPrediction(facility, model, resolution, lookback=12, retrain=False):\n",
    "    filename, columns, irrelevantColumns, targetColumns, traintime, testtime, columnOrder = configs.getConfig(facility, model, resolution)\n",
    "\n",
    "    df = mlApi.initDataframe(filename, columns, irrelevantColumns)\n",
    "    df_train, df_test = mlApi.getTestTrainSplit(traintime, testtime)\n",
    "    X_train, y_train, X_test, y_test = mlApi.getFeatureTargetSplit(targetColumns)\n",
    "\n",
    "    lstm = mlApi.LSTM('LSTM 1x128 d0.2 mod'+model, layers=[128], dropout=0.2, recurrentDropout=0.2, enrolWindow=lookback)\n",
    "    gru = mlApi.GRU('GRU 1x128 d0.2 mod'+model, layers=[128], dropout=0.2, recurrentDropout=0.2, enrolWindow=lookback)\n",
    "    \n",
    "    modelList = [\n",
    "        lstm,\n",
    "        gru,\n",
    "    ]\n",
    "\n",
    "    mlApi.initModels(modelList)\n",
    "    mlApi.trainModels(retrain)\n",
    "\n",
    "    predictions, means, stds = mlApi.predictWithModelsUsingDropout(numberOfPredictions=30)\n",
    "    plotDropoutPrediction(modelList, predictions, means, stds, targetColumns, df_test, y_test, traintime)"
   ]
  },
  {
   "cell_type": "code",
   "execution_count": null,
   "metadata": {
    "scrolled": false
   },
   "outputs": [],
   "source": [
    "performDropoutPrediction('F','A','30min',12, retrain=False)"
   ]
  },
  {
   "cell_type": "code",
   "execution_count": null,
   "metadata": {
    "scrolled": true
   },
   "outputs": [],
   "source": [
    "mlApi.reset()"
   ]
  },
  {
   "cell_type": "code",
   "execution_count": null,
   "metadata": {
    "scrolled": false
   },
   "outputs": [],
   "source": [
    "performDropoutPrediction('G','A','30min',12, retrain=False)"
   ]
  },
  {
   "cell_type": "code",
   "execution_count": null,
   "metadata": {
    "scrolled": true
   },
   "outputs": [],
   "source": [
    "mlApi.reset()"
   ]
  },
  {
   "cell_type": "code",
   "execution_count": null,
   "metadata": {
    "scrolled": false
   },
   "outputs": [],
   "source": [
    "performDropoutPrediction('G','A','10min',12*3, retrain=False)"
   ]
  }
 ],
 "metadata": {
  "kernelspec": {
   "display_name": "Python 3",
   "language": "python",
   "name": "python3"
  },
  "language_info": {
   "codemirror_mode": {
    "name": "ipython",
    "version": 3
   },
   "file_extension": ".py",
   "mimetype": "text/x-python",
   "name": "python",
   "nbconvert_exporter": "python",
   "pygments_lexer": "ipython3",
   "version": "3.6.8"
  }
 },
 "nbformat": 4,
 "nbformat_minor": 4
}
